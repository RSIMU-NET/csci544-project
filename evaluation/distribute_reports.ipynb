{
 "cells": [
  {
   "cell_type": "code",
   "execution_count": 20,
   "id": "closed-garage",
   "metadata": {},
   "outputs": [],
   "source": [
    "import os\n",
    "import random\n",
    "from shutil import copyfile"
   ]
  },
  {
   "cell_type": "code",
   "execution_count": 64,
   "id": "bearing-smith",
   "metadata": {},
   "outputs": [],
   "source": [
    "abstractive_path = '../data/abstraction/test/'\n",
    "extractive_path = '../data/extractive-summaries/test/'\n",
    "baseline_path = '../data/baseline-summaries/test/'\n",
    "model_path = '../data/model-summaries/attentive-context-summaries/test-summaries/'\n",
    "\n",
    "files = os.listdir(abstractive_path)"
   ]
  },
  {
   "cell_type": "code",
   "execution_count": 65,
   "id": "polish-reputation",
   "metadata": {},
   "outputs": [],
   "source": [
    "random.Random(0).shuffle(files)"
   ]
  },
  {
   "cell_type": "code",
   "execution_count": 66,
   "id": "curious-auckland",
   "metadata": {},
   "outputs": [],
   "source": [
    "heeji = files[:10]\n",
    "erin = files[10:20]\n",
    "danielle = files[20:30]\n",
    "surya = files[30:40]\n",
    "haley = files[40:50]"
   ]
  },
  {
   "cell_type": "code",
   "execution_count": 67,
   "id": "hundred-netherlands",
   "metadata": {},
   "outputs": [
    {
     "data": {
      "text/plain": [
       "['GAO-13-716.txt',\n",
       " 'GAO-04-766T.txt',\n",
       " 'GAO-02-398.txt',\n",
       " 'GAO-06-643.txt',\n",
       " 'RL31696.txt',\n",
       " 'GAO-05-349.txt',\n",
       " 'R44140.txt',\n",
       " 'R45725.txt',\n",
       " 'R43353.txt',\n",
       " 'R43213.txt']"
      ]
     },
     "execution_count": 67,
     "metadata": {},
     "output_type": "execute_result"
    }
   ],
   "source": [
    "heeji"
   ]
  },
  {
   "cell_type": "code",
   "execution_count": 68,
   "id": "wicked-bahamas",
   "metadata": {},
   "outputs": [
    {
     "data": {
      "text/plain": [
       "['GAO-02-149T.txt',\n",
       " 'R43948.txt',\n",
       " 'GAO-05-377.txt',\n",
       " 'GAO-08-399.txt',\n",
       " 'GAO-09-775.txt',\n",
       " 'GAO-19-189.txt',\n",
       " 'NSIAD-98-84.txt',\n",
       " 'GAO-11-901SP.txt',\n",
       " 'GAO-02-661.txt',\n",
       " 'RL32200.txt']"
      ]
     },
     "execution_count": 68,
     "metadata": {},
     "output_type": "execute_result"
    }
   ],
   "source": [
    "erin"
   ]
  },
  {
   "cell_type": "code",
   "execution_count": 69,
   "id": "seven-moscow",
   "metadata": {},
   "outputs": [
    {
     "data": {
      "text/plain": [
       "['GAO-08-568T.txt',\n",
       " 'R43443.txt',\n",
       " 'RL31008.txt',\n",
       " 'AIMD-99-53.txt',\n",
       " 'RL32237.txt',\n",
       " 'R41627.txt',\n",
       " 'GAO-01-625.txt',\n",
       " 'R44791.txt',\n",
       " 'RS22705.txt',\n",
       " 'R41511.txt']"
      ]
     },
     "execution_count": 69,
     "metadata": {},
     "output_type": "execute_result"
    }
   ],
   "source": [
    "danielle"
   ]
  },
  {
   "cell_type": "code",
   "execution_count": 70,
   "id": "posted-attendance",
   "metadata": {},
   "outputs": [
    {
     "data": {
      "text/plain": [
       "['R45780.txt',\n",
       " 'RL34700.txt',\n",
       " 'R41937.txt',\n",
       " 'RCED-96-96.txt',\n",
       " 'GAO-15-67.txt',\n",
       " 'PEMD-95-202.txt',\n",
       " 'RS22665.txt',\n",
       " 'GAO-10-570.txt',\n",
       " 'GAO-18-386.txt',\n",
       " 'R45156.txt']"
      ]
     },
     "execution_count": 70,
     "metadata": {},
     "output_type": "execute_result"
    }
   ],
   "source": [
    "surya"
   ]
  },
  {
   "cell_type": "code",
   "execution_count": 71,
   "id": "valid-cricket",
   "metadata": {},
   "outputs": [
    {
     "data": {
      "text/plain": [
       "['GAO-02-1054T.txt',\n",
       " 'GAO-16-36.txt',\n",
       " 'GAO-10-297T.txt',\n",
       " 'RCED-98-242.txt',\n",
       " 'R43066.txt',\n",
       " 'RS20598.txt',\n",
       " 'R42129.txt',\n",
       " 'GAO-10-420.txt',\n",
       " 'GAO-01-842.txt',\n",
       " 'GAO-18-608.txt']"
      ]
     },
     "execution_count": 71,
     "metadata": {},
     "output_type": "execute_result"
    }
   ],
   "source": [
    "haley"
   ]
  },
  {
   "cell_type": "code",
   "execution_count": 72,
   "id": "removable-thinking",
   "metadata": {},
   "outputs": [],
   "source": [
    "def get_ids(files):\n",
    "    ids = [file.replace('.txt', '') for file in files]\n",
    "    return ids"
   ]
  },
  {
   "cell_type": "code",
   "execution_count": 18,
   "id": "southern-linux",
   "metadata": {},
   "outputs": [],
   "source": [
    "ids = get_ids(heeji)"
   ]
  },
  {
   "cell_type": "code",
   "execution_count": 60,
   "id": "tested-correction",
   "metadata": {},
   "outputs": [],
   "source": [
    "def copy_files(file_ids, file_path, out_path, path_ext_dict):\n",
    "    for id in file_ids:\n",
    "        filename = id + '.txt'\n",
    "        out_filename = id + path_ext_dict[file_path]\n",
    "        \n",
    "        input_path = file_path + filename\n",
    "        output_path = out_path + out_filename\n",
    "        \n",
    "        copyfile(input_path, output_path)"
   ]
  },
  {
   "cell_type": "code",
   "execution_count": 61,
   "id": "linear-administration",
   "metadata": {},
   "outputs": [],
   "source": [
    "path_ext_dict = {abstractive_path: '_abs.txt', extractive_path: '_ext.txt', baseline_path: '_base.txt', model_path: '_model.txt'}"
   ]
  },
  {
   "cell_type": "code",
   "execution_count": 62,
   "id": "secret-presence",
   "metadata": {},
   "outputs": [],
   "source": [
    "def distribute_files(file_ids, name):\n",
    "    out_path = f'distribution/{name}/'\n",
    "    paths = path_ext_dict.keys()\n",
    "    for path in paths:\n",
    "        copy_files(file_ids, path, out_path, path_ext_dict)"
   ]
  },
  {
   "cell_type": "code",
   "execution_count": 73,
   "id": "pending-surfing",
   "metadata": {},
   "outputs": [],
   "source": [
    "distribute_files(get_ids(heeji), 'heeji')"
   ]
  },
  {
   "cell_type": "code",
   "execution_count": 75,
   "id": "southwest-bermuda",
   "metadata": {},
   "outputs": [],
   "source": [
    "distribute_files(get_ids(erin), 'erin')\n",
    "distribute_files(get_ids(danielle), 'danielle')"
   ]
  },
  {
   "cell_type": "code",
   "execution_count": 76,
   "id": "august-sellers",
   "metadata": {},
   "outputs": [],
   "source": [
    "distribute_files(get_ids(surya), 'surya')\n",
    "distribute_files(get_ids(haley), 'haley')"
   ]
  }
 ],
 "metadata": {
  "kernelspec": {
   "display_name": "Python 3",
   "language": "python",
   "name": "python3"
  },
  "language_info": {
   "codemirror_mode": {
    "name": "ipython",
    "version": 3
   },
   "file_extension": ".py",
   "mimetype": "text/x-python",
   "name": "python",
   "nbconvert_exporter": "python",
   "pygments_lexer": "ipython3",
   "version": "3.8.6"
  }
 },
 "nbformat": 4,
 "nbformat_minor": 5
}
