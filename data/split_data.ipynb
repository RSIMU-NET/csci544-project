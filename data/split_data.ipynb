{
 "cells": [
  {
   "cell_type": "code",
   "execution_count": 46,
   "id": "fewer-million",
   "metadata": {},
   "outputs": [],
   "source": [
    "import os\n",
    "import random\n",
    "from shutil import copyfile"
   ]
  },
  {
   "cell_type": "code",
   "execution_count": 47,
   "id": "funky-method",
   "metadata": {},
   "outputs": [],
   "source": [
    "crs_input = 'formatted-data-and-code/formatted-data/crs/'\n",
    "gao_input = 'formatted-data-and-code/formatted-data/gao/'\n",
    "crs_label = 'labels/crs/'\n",
    "gao_label = 'labels/gao/'\n",
    "\n",
    "train_input = 'input/train/'\n",
    "valid_input = 'input/valid/'\n",
    "test_input = 'input/test/'\n",
    "train_label = 'labels/train/'\n",
    "valid_label = 'labels/valid/'\n",
    "test_label = 'labels/test/'"
   ]
  },
  {
   "cell_type": "code",
   "execution_count": 48,
   "id": "marine-feature",
   "metadata": {},
   "outputs": [],
   "source": [
    "crs_files = os.listdir(crs_label)\n",
    "gao_files = os.listdir(gao_label)"
   ]
  },
  {
   "cell_type": "code",
   "execution_count": 49,
   "id": "dated-train",
   "metadata": {},
   "outputs": [],
   "source": [
    "gov_files = crs_files+gao_files"
   ]
  },
  {
   "cell_type": "code",
   "execution_count": 50,
   "id": "prerequisite-syndication",
   "metadata": {},
   "outputs": [],
   "source": [
    "random.shuffle(gov_files)"
   ]
  },
  {
   "cell_type": "code",
   "execution_count": 51,
   "id": "occupied-annex",
   "metadata": {},
   "outputs": [],
   "source": [
    "num_files = len(gov_files)"
   ]
  },
  {
   "cell_type": "code",
   "execution_count": 52,
   "id": "amateur-masters",
   "metadata": {},
   "outputs": [],
   "source": [
    "num_train = int(num_files*0.9)\n",
    "num_valid = int(num_files*0.05)\n",
    "num_test = num_files - num_train - num_valid"
   ]
  },
  {
   "cell_type": "code",
   "execution_count": 53,
   "id": "august-width",
   "metadata": {},
   "outputs": [],
   "source": [
    "train_files = gov_files[:num_train]\n",
    "valid_files = gov_files[num_train:(num_train+num_valid)]\n",
    "test_files = gov_files[(num_train+num_valid):]"
   ]
  },
  {
   "cell_type": "code",
   "execution_count": 55,
   "id": "simplified-brown",
   "metadata": {},
   "outputs": [],
   "source": [
    "def copy_files(files, dst_input, dst_label):\n",
    "    for file in files:\n",
    "        if file in crs_files:\n",
    "            src_input_path = crs_input + file\n",
    "            src_label_path = crs_label + file\n",
    "        else:\n",
    "            src_input_path = gao_input + file\n",
    "            src_label_path = gao_label + file\n",
    "            \n",
    "        dst_input_path = dst_input + file\n",
    "        dst_label_path = dst_label + file\n",
    "        \n",
    "        copyfile(src_input_path, dst_input_path)\n",
    "        copyfile(src_label_path, dst_label_path)"
   ]
  },
  {
   "cell_type": "code",
   "execution_count": 56,
   "id": "extensive-malaysia",
   "metadata": {},
   "outputs": [],
   "source": [
    "copy_files(train_files, train_input, train_label)"
   ]
  },
  {
   "cell_type": "code",
   "execution_count": 57,
   "id": "rising-crystal",
   "metadata": {},
   "outputs": [],
   "source": [
    "copy_files(valid_files, valid_input, valid_label)"
   ]
  },
  {
   "cell_type": "code",
   "execution_count": 58,
   "id": "cubic-liberty",
   "metadata": {},
   "outputs": [],
   "source": [
    "copy_files(test_files, test_input, test_label)"
   ]
  }
 ],
 "metadata": {
  "kernelspec": {
   "display_name": "Python 3",
   "language": "python",
   "name": "python3"
  },
  "language_info": {
   "codemirror_mode": {
    "name": "ipython",
    "version": 3
   },
   "file_extension": ".py",
   "mimetype": "text/x-python",
   "name": "python",
   "nbconvert_exporter": "python",
   "pygments_lexer": "ipython3",
   "version": "3.8.6"
  }
 },
 "nbformat": 4,
 "nbformat_minor": 5
}
